{
 "cells": [
  {
   "cell_type": "markdown",
   "metadata": {},
   "source": [
    "## Directional DIC showcase\n",
    "More information on the method can be found in the corresponding paper:\n",
    "Masmeijer, Thijs and Zaletelj, Klemen and Slavič, Janko and Habtour, Ed, Directional DIC Method with Automatic Feature Selection. Available at SSRN: https://ssrn.com/abstract=4907539 or http://dx.doi.org/10.2139/ssrn.4907539"
   ]
  },
  {
   "cell_type": "code",
   "execution_count": 21,
   "metadata": {},
   "outputs": [],
   "source": [
    "import os\n",
    "import sys\n",
    "sys.path.insert(0, os.path.realpath('__file__'))\n",
    "\n",
    "import numpy as np\n",
    "import matplotlib.pyplot as plt\n",
    "import pyidi\n",
    "from scipy.ndimage import uniform_filter"
   ]
  },
  {
   "cell_type": "markdown",
   "metadata": {},
   "source": [
    "The Directional DIC method is demonstrated on some synthetic data. Directional DIC is recommended for use on cases where vibration is predomentely uni-directional, but still works on 2D cases."
   ]
  },
  {
   "cell_type": "code",
   "execution_count": 22,
   "metadata": {},
   "outputs": [],
   "source": [
    "filename = 'data/data_synthetic.cih'\n",
    "video = pyidi.pyIDI(filename)"
   ]
  },
  {
   "cell_type": "markdown",
   "metadata": {},
   "source": [
    "Watch the video:"
   ]
  },
  {
   "cell_type": "code",
   "execution_count": null,
   "metadata": {},
   "outputs": [],
   "source": [
    "%matplotlib qt\n",
    "import matplotlib.animation as animation\n",
    "\n",
    "def play_video(frame_range = None, interval=30, points = None, ij_counter = (0.65, 0.05)):\n",
    "    \n",
    "    \"\"\"\n",
    "    Plays the video from the given video object.\n",
    "    Args:\n",
    "        frame_range (range object): The range of frames to play.\n",
    "        interval (int): The interval between frames in milliseconds.\n",
    "        points (ndarray): Optional tracked points to plot on the video.\n",
    "        ij_counter (tuple): The position of the frame counter.\n",
    "    \"\"\"\n",
    "    if frame_range is None:\n",
    "        frame_range = range(0, video.info['Total Frame'])\n",
    "    fig, ax = plt.subplots()\n",
    "    im = ax.imshow(video.mraw[frame_range[0]], cmap='gray')\n",
    "    text = ax.text(ij_counter[0], ij_counter[1], '', transform=ax.transAxes, color='black', ha='right', va='bottom')\n",
    "\n",
    "    if points is not None:\n",
    "        pts = ax.plot(points[:,0,1], points[:,0,0], 'r.')\n",
    "\n",
    "    def update(i):\n",
    "        im.set_data(video.mraw[i])\n",
    "        text.set_text(f'Frame {i}')\n",
    "        if points is not None:\n",
    "            pts[0].set_data(points[:,i,1], points[:,i,0])\n",
    "        return im, text\n",
    "\n",
    "    ani = animation.FuncAnimation(fig, update, frames=frame_range, interval=interval)\n",
    "    plt.show()\n",
    "    return ani\n",
    "\n",
    "ani = play_video(range(1, video.info['Total Frame']))"
   ]
  },
  {
   "cell_type": "markdown",
   "metadata": {},
   "source": [
    "We will first use the conventional `DIC` method as a reference"
   ]
  },
  {
   "cell_type": "code",
   "execution_count": null,
   "metadata": {},
   "outputs": [],
   "source": [
    "N_tracking_points = 1\n",
    "tol = 1e-8\n",
    "roi_size = (11,11)\n",
    "video.set_method('lk') # Set the method to Lucas-Kanade (or DIC)\n",
    "video.method.configure(reference_image = (0,100), resume_analysis = False, tol=tol, roi_size=roi_size)\n",
    "\n",
    "\n",
    "# DIC is expected to work will on image subsets with high contrast in two orthogonal directions. We can find the best subsets according to:\n",
    "reference_image = video.method._set_reference_image(video, video.method.reference_image)\n",
    "Gi, Gj = np.gradient(reference_image)\n",
    "G = np.sqrt(Gi**2 + Gj**2)\n",
    "G_filtered = uniform_filter(G, size=roi_size)\n",
    "points2d = np.array(np.unravel_index(np.argsort(G_filtered.flatten())[-N_tracking_points:], G_filtered.shape)).T  # Find the N_tracking_points highest gradient points\n",
    "\n",
    "fig, ax = plt.subplots()\n",
    "ax.imshow(G_filtered, cmap='gray')\n",
    "plt.show()\n",
    "\n",
    "video.set_points(points2d)\n",
    "video.show_points()\n",
    "displacements_2d = video.get_displacements(processes=1, autosave=False)"
   ]
  },
  {
   "cell_type": "markdown",
   "metadata": {},
   "source": [
    "Next, we will use the `Directional DIC` method. Directional DIC uses a predetermined motion direction. Consequently, Directional DIC only requires a high gradient in the direction of motion to track well."
   ]
  },
  {
   "cell_type": "code",
   "execution_count": null,
   "metadata": {},
   "outputs": [],
   "source": [
    "video = pyidi.pyIDI(filename)\n",
    "video.set_method('lk_1D')\n",
    "'''\n",
    " Here we define the direction of the motion.\n",
    "'''\n",
    "dij = (1, 0) # vertical direction\n",
    "roi_size = (3, 7) \n",
    "video.method.configure(reference_image = (0, 100), dij=dij, resume_analysis = False, tol=tol,roi_size=roi_size)\n",
    "reference_image = video.method._set_reference_image(video, video.method.reference_image)\n",
    "Gi, Gj = np.gradient(reference_image)\n",
    "G = np.abs(Gi*dij[0] + Gj*dij[1])\n",
    "G_filtered = uniform_filter(G, size=roi_size)\n",
    "points1d_0 = np.array(np.unravel_index(np.argsort(G_filtered.flatten())[-N_tracking_points:], G_filtered.shape)).T\n",
    "\n",
    "fig, ax = plt.subplots()\n",
    "ax.imshow(G_filtered, cmap='gray')\n",
    "plt.show()\n",
    "\n",
    "video.set_points(points1d_0)\n",
    "video.show_points()\n",
    "displacements_1d0 = video.get_displacements(processes=1, autosave=False)"
   ]
  },
  {
   "cell_type": "markdown",
   "metadata": {},
   "source": [
    "We can also determine the motion perpendicular to $d$"
   ]
  },
  {
   "cell_type": "code",
   "execution_count": null,
   "metadata": {},
   "outputs": [],
   "source": [
    "dij_T = (-dij[1], dij[0]) # horizontal direction\n",
    "roi_size = (7, 3)\n",
    "video.method.configure(reference_image = (0, 100), dij=dij_T, resume_analysis = False, tol=tol,roi_size=roi_size)\n",
    "\n",
    "G = np.abs(Gi*dij_T[0] + Gj*dij_T[1])\n",
    "G_filtered = uniform_filter(G, size=roi_size)\n",
    "points1d_1 = np.array(np.unravel_index(np.argsort(G_filtered.flatten())[-N_tracking_points:], G_filtered.shape)).T\n",
    "\n",
    "fig, ax = plt.subplots()\n",
    "ax.imshow(G_filtered, cmap='gray')\n",
    "plt.show()\n",
    "\n",
    "video.set_points(points1d_1)\n",
    "video.show_points()\n",
    "displacements_1d1 = video.get_displacements(processes=1, autosave=False)"
   ]
  },
  {
   "cell_type": "markdown",
   "metadata": {},
   "source": [
    "Let's compare results. In this synthethic case the motion is equal everywhere in the video, so the two orthogonal 1D motions can be added. "
   ]
  },
  {
   "cell_type": "code",
   "execution_count": null,
   "metadata": {},
   "outputs": [],
   "source": [
    "%matplotlib inline\n",
    "displacements_1d = displacements_1d0 + displacements_1d1\n",
    "\n",
    "t_vec = np.arange(0, len(displacements_1d[0])) * video.info['Record Rate(fps)']\n",
    "\n",
    "fig, ax = plt.subplots(3, 1)\n",
    "ax[2].set_xlabel('Time (s)')\n",
    "ax[0].set_ylabel('x (pixels) - x')\n",
    "ax[1].set_ylabel('y (pixels) -y')\n",
    "ax[2].set_ylabel('Absolute error (pixels)')\n",
    "ax[0].plot(t_vec, displacements_1d[0, :,0], 'b--', label = '1D - x')\n",
    "ax[1].plot(t_vec, displacements_1d[0, :,1], 'b--', label = '1D - y')\n",
    "ax[0].plot(t_vec, displacements_2d[0, :,0], 'r-', label = '2D - x')\n",
    "ax[1].plot(t_vec, displacements_2d[0, :,1], 'r-', label = '2D - y')\n",
    "ax[2].plot(t_vec, np.linalg.norm(displacements_2d[0]-displacements_1d[0], axis=1), 'k', label = 'absolute error')\n",
    "ax[2].set_ylim(0, 0.02)\n",
    "ax[0].legend()\n",
    "ax[1].legend()\n",
    "plt.show()"
   ]
  },
  {
   "cell_type": "markdown",
   "metadata": {},
   "source": [
    "Watch the 1D motions"
   ]
  },
  {
   "cell_type": "code",
   "execution_count": 28,
   "metadata": {},
   "outputs": [],
   "source": [
    "%matplotlib qt\n",
    "td1d_0      = displacements_1d0 +  points1d_0.reshape(len(points1d_0),1,2)\n",
    "td1d_1      = displacements_1d1 +  points1d_1.reshape(len(points1d_1),1,2)\n",
    "combined_td = np.concatenate((td1d_0, td1d_1), axis=0)\n",
    "ani         = play_video(range(1,video.reader.N), points=combined_td)"
   ]
  },
  {
   "cell_type": "markdown",
   "metadata": {},
   "source": [
    "and compare the 2D motion extracted with conventional and Directional DIC"
   ]
  },
  {
   "cell_type": "code",
   "execution_count": 29,
   "metadata": {},
   "outputs": [],
   "source": [
    "%matplotlib qt\n",
    "td2d        = displacements_2d +  points2d.reshape(len(points2d),1,2)\n",
    "td1d        = displacements_1d +  points2d.reshape(len(points2d),1,2)\n",
    "combined_td = np.concatenate((td2d, td1d), axis=0)\n",
    "ani         = play_video(range(1,video.reader.N), points=combined_td)"
   ]
  },
  {
   "cell_type": "markdown",
   "metadata": {},
   "source": [
    "Directional DIC should be used with care. When the pixel intensity gradient is not aligned with $d$, accuracy is reduced"
   ]
  },
  {
   "cell_type": "code",
   "execution_count": null,
   "metadata": {},
   "outputs": [],
   "source": [
    "%matplotlib inline\n",
    "dij = (1, 0.1) # Close to vertical direction\n",
    "roi_size = (3, 7) \n",
    "video.method.configure(reference_image = (0, 100), dij=dij, resume_analysis = False, tol=tol,roi_size=roi_size)\n",
    "video.set_points(points1d_0)\n",
    "displacements_1d2 = video.get_displacements(processes=1, autosave=False)\n",
    "\n",
    "dij_T = (-dij[1], dij[0]) # Close to horizontal direction\n",
    "roi_size = (7, 3)\n",
    "video.method.configure(reference_image = (0, 100), dij=dij_T, resume_analysis = False, tol=tol,roi_size=roi_size)\n",
    "video.set_points(points1d_1)\n",
    "displacements_1d3 = video.get_displacements(processes=1, autosave=False)\n",
    "displacements_1d2 = displacements_1d2 + displacements_1d3\n",
    "\n",
    "\n",
    "fig, ax = plt.subplots(3, 1)\n",
    "ax[2].set_xlabel('Time (s)')\n",
    "ax[0].set_ylabel('x (pixels) - x')\n",
    "ax[1].set_ylabel('y (pixels) -y')\n",
    "ax[2].set_ylabel('Absolute error (pixels)')\n",
    "ax[0].plot(t_vec, displacements_1d2[0, :,0], 'b--', label = '1D - x')\n",
    "ax[1].plot(t_vec, displacements_1d2[0, :,1], 'b--', label = '1D - y')\n",
    "ax[0].plot(t_vec, displacements_2d[0, :,0], 'r-', label = '2D - x')\n",
    "ax[1].plot(t_vec, displacements_2d[0, :,1], 'r-', label = '2D - y')\n",
    "ax[2].plot(t_vec, np.linalg.norm(displacements_2d[0]-displacements_1d2[0], axis=1), 'k', label = 'absolute error')\n",
    "ax[2].set_ylim(0, 0.02)\n",
    "ax[0].legend()\n",
    "ax[1].legend()\n",
    "plt.show()"
   ]
  }
 ],
 "metadata": {
  "hide_input": false,
  "kernelspec": {
   "display_name": "base",
   "language": "python",
   "name": "python3"
  },
  "language_info": {
   "codemirror_mode": {
    "name": "ipython",
    "version": 3
   },
   "file_extension": ".py",
   "mimetype": "text/x-python",
   "name": "python",
   "nbconvert_exporter": "python",
   "pygments_lexer": "ipython3",
   "version": "3.11.5"
  },
  "toc": {
   "base_numbering": 1,
   "nav_menu": {},
   "number_sections": true,
   "sideBar": true,
   "skip_h1_title": false,
   "title_cell": "Table of Contents",
   "title_sidebar": "Contents",
   "toc_cell": false,
   "toc_position": {},
   "toc_section_display": true,
   "toc_window_display": false
  }
 },
 "nbformat": 4,
 "nbformat_minor": 2
}
