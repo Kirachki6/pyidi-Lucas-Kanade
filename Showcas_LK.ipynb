{
 "cells": [
  {
   "cell_type": "code",
   "execution_count": 1,
   "metadata": {},
   "outputs": [
    {
     "name": "stderr",
     "output_type": "stream",
     "text": [
      "C:\\Users\\Domen\\AppData\\Local\\Programs\\Python\\Python312\\Lib\\copy.py:151: DeprecationWarning: Pickle, copy, and deepcopy support will be removed from itertools in Python 3.14.\n",
      "  rv = reductor(4)\n",
      "C:\\Users\\Domen\\AppData\\Local\\Programs\\Python\\Python312\\Lib\\copy.py:261: DeprecationWarning: Pickle, copy, and deepcopy support will be removed from itertools in Python 3.14.\n",
      "  y.__setstate__(state)\n"
     ]
    }
   ],
   "source": [
    "import os\n",
    "import sys\n",
    "sys.path.insert(0, os.path.realpath('__file__'))\n",
    "\n",
    "import numpy as np\n",
    "import matplotlib.pyplot as plt\n",
    "import pickle\n",
    "import pyidi"
   ]
  },
  {
   "cell_type": "markdown",
   "metadata": {},
   "source": [
    "Load the video"
   ]
  },
  {
   "cell_type": "code",
   "execution_count": 2,
   "metadata": {},
   "outputs": [],
   "source": [
    "filename = 'data/data_synthetic.cih'\n",
    "video = pyidi.pyIDI(filename)"
   ]
  },
  {
   "cell_type": "markdown",
   "metadata": {},
   "source": [
    "Video info can easily be accessed"
   ]
  },
  {
   "cell_type": "code",
   "execution_count": 3,
   "metadata": {},
   "outputs": [
    {
     "data": {
      "text/plain": [
       "{'Date': '2016/08/31',\n",
       " 'Camera Type': 1,\n",
       " 'Record Rate(fps)': 1,\n",
       " 'Shutter Speed(s)': 1.0,\n",
       " 'Total Frame': 101,\n",
       " 'Original Total Frame': 101,\n",
       " 'Start Frame': 0,\n",
       " 'Image Width': 256,\n",
       " 'Image Height': 128,\n",
       " 'Color Type': 'Mono',\n",
       " 'Color Bit': 16,\n",
       " 'File Format': 'MRaw',\n",
       " 'EffectiveBit Depth': 12,\n",
       " 'EffectiveBit Side': 'Lower',\n",
       " 'Comment Text': 'Generated sequence.<br>Modify measurement info in<br>created .cih file if necessary.'}"
      ]
     },
     "execution_count": 3,
     "metadata": {},
     "output_type": "execute_result"
    }
   ],
   "source": [
    "video.reader.info"
   ]
  },
  {
   "cell_type": "markdown",
   "metadata": {},
   "source": [
    "Selecting the points is easy using the selection UI"
   ]
  },
  {
   "cell_type": "code",
   "execution_count": 4,
   "metadata": {},
   "outputs": [],
   "source": [
    "Points = pyidi.selection.ROISelect(video, roi_size=(21, 21), noverlap=0)"
   ]
  },
  {
   "cell_type": "markdown",
   "metadata": {},
   "source": [
    "Assigning the points"
   ]
  },
  {
   "cell_type": "code",
   "execution_count": 5,
   "metadata": {},
   "outputs": [],
   "source": [
    "video.set_points(Points.points)"
   ]
  },
  {
   "cell_type": "markdown",
   "metadata": {},
   "source": [
    "Assign the `Lucas Kanade` method"
   ]
  },
  {
   "cell_type": "code",
   "execution_count": 6,
   "metadata": {},
   "outputs": [],
   "source": [
    "video.set_method('lk')"
   ]
  },
  {
   "cell_type": "markdown",
   "metadata": {},
   "source": [
    "Identify the displacements using 2 processes"
   ]
  },
  {
   "cell_type": "code",
   "execution_count": 7,
   "metadata": {},
   "outputs": [
    {
     "name": "stdout",
     "output_type": "stream",
     "text": [
      "--- Starting new analysis ---\n",
      " \n",
      "Computation start: 2024-05-16 08:37:22.807458\n"
     ]
    },
    {
     "data": {
      "application/vnd.jupyter.widget-view+json": {
       "model_id": "13430c29596e4052b53b0ac8b85e5442",
       "version_major": 2,
       "version_minor": 0
      },
      "text/plain": [
       "VBox()"
      ]
     },
     "metadata": {},
     "output_type": "display_data"
    },
    {
     "name": "stdout",
     "output_type": "stream",
     "text": [
      "Computation duration: 00:00:6.88\n",
      "data\\data_synthetic_pyidi_analysis\\analysis_004\\ analysis_004\n"
     ]
    }
   ],
   "source": [
    "displacementes = video.get_displacements(processes=2)"
   ]
  },
  {
   "cell_type": "markdown",
   "metadata": {},
   "source": [
    "An existing analysis can also be loaded without computation and setting the arguments."
   ]
  },
  {
   "cell_type": "code",
   "execution_count": 9,
   "metadata": {},
   "outputs": [],
   "source": [
    "filename = 'data/data_synthetic_pyidi_analysis/analysis_001'\n",
    "video_loaded, info_dict = pyidi.load_analysis(filename, )"
   ]
  }
 ],
 "metadata": {
  "hide_input": false,
  "kernelspec": {
   "display_name": "Python 3 (ipykernel)",
   "language": "python",
   "name": "python3"
  },
  "language_info": {
   "codemirror_mode": {
    "name": "ipython",
    "version": 3
   },
   "file_extension": ".py",
   "mimetype": "text/x-python",
   "name": "python",
   "nbconvert_exporter": "python",
   "pygments_lexer": "ipython3",
   "version": "3.12.2"
  },
  "toc": {
   "base_numbering": 1,
   "nav_menu": {},
   "number_sections": true,
   "sideBar": true,
   "skip_h1_title": false,
   "title_cell": "Table of Contents",
   "title_sidebar": "Contents",
   "toc_cell": false,
   "toc_position": {},
   "toc_section_display": true,
   "toc_window_display": false
  }
 },
 "nbformat": 4,
 "nbformat_minor": 4
}
